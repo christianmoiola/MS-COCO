{
 "cells": [
  {
   "cell_type": "markdown",
   "metadata": {},
   "source": [
    "# MS-COCO Analysis"
   ]
  },
  {
   "cell_type": "code",
   "execution_count": 2,
   "metadata": {},
   "outputs": [],
   "source": [
    "%matplotlib inline\n",
    "from pycocotools.coco import COCO\n",
    "import numpy as np\n",
    "import skimage.io as io\n",
    "import matplotlib.pyplot as plt\n",
    "import pylab"
   ]
  },
  {
   "cell_type": "markdown",
   "metadata": {},
   "source": [
    "### Loading the dataset"
   ]
  },
  {
   "cell_type": "code",
   "execution_count": 3,
   "metadata": {},
   "outputs": [
    {
     "name": "stdout",
     "output_type": "stream",
     "text": [
      "loading annotations into memory...\n",
      "Done (t=0.17s)\n",
      "creating index...\n",
      "index created!\n"
     ]
    }
   ],
   "source": [
    "dataType='val2017'\n",
    "annFile='coco/annotations/instances_{}.json'.format(dataType)\n",
    "coco=COCO(annFile)"
   ]
  },
  {
   "cell_type": "markdown",
   "metadata": {},
   "source": [
    "### Number of Images, Categories and Super Categories"
   ]
  },
  {
   "cell_type": "code",
   "execution_count": 4,
   "metadata": {},
   "outputs": [
    {
     "name": "stdout",
     "output_type": "stream",
     "text": [
      "Number of images: 5000\n",
      "Number of categories: 80\n",
      "Number of super categories: 12\n"
     ]
    }
   ],
   "source": [
    "imgids = coco.getImgIds()\n",
    "print(f\"Number of images: {len(imgids)}\")\n",
    "\n",
    "categories = coco.loadCats(coco.getCatIds())\n",
    "print(f\"Number of categories: {len(categories)}\")\n",
    "\n",
    "super_categories = set([cat['supercategory'] for cat in categories])\n",
    "print(f\"Number of super categories: {len(super_categories)}\")"
   ]
  },
  {
   "cell_type": "markdown",
   "metadata": {},
   "source": [
    "### Min, Max, Mean and Standard Deviation of number of categories per image"
   ]
  },
  {
   "cell_type": "code",
   "execution_count": null,
   "metadata": {},
   "outputs": [
    {
     "name": "stdout",
     "output_type": "stream",
     "text": [
      "Max number of categories per image: 14\n",
      "Min number of categories per image: 0\n",
      "Mean number of categories per image: 2.9262\n",
      "Standard deviation of number of categories per image: 1.8878436269988041\n"
     ]
    }
   ],
   "source": [
    "dict_img ={}\n",
    "\n",
    "# Count the number of categories per image\n",
    "for imgid in imgids:\n",
    "    dict_img[imgid] = {}\n",
    "    annids = coco.getAnnIds(imgIds=imgid)\n",
    "    anns = coco.loadAnns(annids)\n",
    "    for ann in anns:\n",
    "        cat = ann['category_id']\n",
    "        if cat not in dict_img[imgid]:\n",
    "            dict_img[imgid][cat] = 1\n",
    "        else:\n",
    "            dict_img[imgid][cat] += 1\n",
    "\n",
    "mean_length = np.mean([len(dict_img[imgid]) for imgid in imgids])\n",
    "max_length = np.max([len(dict_img[imgid]) for imgid in imgids])\n",
    "min_length = np.min([len(dict_img[imgid]) for imgid in imgids])\n",
    "standard_deviation = np.std([len(dict_img[imgid]) for imgid in imgids])\n",
    "\n",
    "print(f\"Max number of categories per image: {max_length}\")\n",
    "print(f\"Min number of categories per image: {min_length}\")\n",
    "print(f\"Mean number of categories per image: {mean_length}\")\n",
    "print(f\"Standard deviation of number of categories per image: {standard_deviation}\")\n"
   ]
  },
  {
   "cell_type": "markdown",
   "metadata": {},
   "source": [
    "### Min, Max, Mean and Standard Deviation of number of elements per image"
   ]
  },
  {
   "cell_type": "code",
   "execution_count": 6,
   "metadata": {},
   "outputs": [
    {
     "name": "stdout",
     "output_type": "stream",
     "text": [
      "Max number of elements per image: 63\n",
      "Min number of elements per image: 0\n",
      "Mean number of elements per image: 7.3562\n",
      "Standard deviation of number of elements per image: 7.438233766157125\n"
     ]
    }
   ],
   "source": [
    "elem_img = [sum(dict_img[imgid].values()) for imgid in imgids]\n",
    "\n",
    "print(f\"Max number of elements per image: {np.max(elem_img)}\")\n",
    "print(f\"Min number of elements per image: {np.min(elem_img)}\")\n",
    "print(f\"Mean number of elements per image: {np.mean(elem_img)}\")\n",
    "print(f\"Standard deviation of number of elements per image: {np.std(elem_img)}\")"
   ]
  },
  {
   "cell_type": "markdown",
   "metadata": {},
   "source": [
    "### Number of images per Category"
   ]
  },
  {
   "cell_type": "code",
   "execution_count": null,
   "metadata": {},
   "outputs": [
    {
     "name": "stdout",
     "output_type": "stream",
     "text": [
      "Category 1: person - Number of images: 2693\n",
      "Category 2: bicycle - Number of images: 149\n",
      "Category 3: car - Number of images: 535\n",
      "Category 4: motorcycle - Number of images: 159\n",
      "Category 5: airplane - Number of images: 97\n",
      "Category 6: bus - Number of images: 189\n",
      "Category 7: train - Number of images: 157\n",
      "Category 8: truck - Number of images: 250\n",
      "Category 9: boat - Number of images: 121\n",
      "Category 10: traffic light - Number of images: 191\n",
      "Category 11: fire hydrant - Number of images: 86\n",
      "Category 13: stop sign - Number of images: 69\n",
      "Category 14: parking meter - Number of images: 37\n",
      "Category 15: bench - Number of images: 235\n",
      "Category 16: bird - Number of images: 125\n",
      "Category 17: cat - Number of images: 184\n",
      "Category 18: dog - Number of images: 177\n",
      "Category 19: horse - Number of images: 128\n",
      "Category 20: sheep - Number of images: 65\n",
      "Category 21: cow - Number of images: 87\n",
      "Category 22: elephant - Number of images: 89\n",
      "Category 23: bear - Number of images: 49\n",
      "Category 24: zebra - Number of images: 85\n",
      "Category 25: giraffe - Number of images: 101\n",
      "Category 27: backpack - Number of images: 228\n",
      "Category 28: umbrella - Number of images: 174\n",
      "Category 31: handbag - Number of images: 292\n",
      "Category 32: tie - Number of images: 145\n",
      "Category 33: suitcase - Number of images: 105\n",
      "Category 34: frisbee - Number of images: 84\n",
      "Category 35: skis - Number of images: 120\n",
      "Category 36: snowboard - Number of images: 49\n",
      "Category 37: sports ball - Number of images: 169\n",
      "Category 38: kite - Number of images: 91\n",
      "Category 39: baseball bat - Number of images: 97\n",
      "Category 40: baseball glove - Number of images: 100\n",
      "Category 41: skateboard - Number of images: 127\n",
      "Category 42: surfboard - Number of images: 149\n",
      "Category 43: tennis racket - Number of images: 167\n",
      "Category 44: bottle - Number of images: 379\n",
      "Category 46: wine glass - Number of images: 110\n",
      "Category 47: cup - Number of images: 390\n",
      "Category 48: fork - Number of images: 155\n",
      "Category 49: knife - Number of images: 181\n",
      "Category 50: spoon - Number of images: 153\n",
      "Category 51: bowl - Number of images: 314\n",
      "Category 52: banana - Number of images: 103\n",
      "Category 53: apple - Number of images: 76\n",
      "Category 54: sandwich - Number of images: 98\n",
      "Category 55: orange - Number of images: 85\n",
      "Category 56: broccoli - Number of images: 71\n",
      "Category 57: carrot - Number of images: 81\n",
      "Category 58: hot dog - Number of images: 51\n",
      "Category 59: pizza - Number of images: 153\n",
      "Category 60: donut - Number of images: 62\n",
      "Category 61: cake - Number of images: 124\n",
      "Category 62: chair - Number of images: 580\n",
      "Category 63: couch - Number of images: 195\n",
      "Category 64: potted plant - Number of images: 172\n",
      "Category 65: bed - Number of images: 149\n",
      "Category 67: dining table - Number of images: 501\n",
      "Category 70: toilet - Number of images: 149\n",
      "Category 72: tv - Number of images: 207\n",
      "Category 73: laptop - Number of images: 183\n",
      "Category 74: mouse - Number of images: 88\n",
      "Category 75: remote - Number of images: 145\n",
      "Category 76: keyboard - Number of images: 106\n",
      "Category 77: cell phone - Number of images: 214\n",
      "Category 78: microwave - Number of images: 54\n",
      "Category 79: oven - Number of images: 115\n",
      "Category 80: toaster - Number of images: 8\n",
      "Category 81: sink - Number of images: 187\n",
      "Category 82: refrigerator - Number of images: 101\n",
      "Category 84: book - Number of images: 230\n",
      "Category 85: clock - Number of images: 204\n",
      "Category 86: vase - Number of images: 137\n",
      "Category 87: scissors - Number of images: 28\n",
      "Category 88: teddy bear - Number of images: 94\n",
      "Category 89: hair drier - Number of images: 9\n",
      "Category 90: toothbrush - Number of images: 34\n"
     ]
    },
    {
     "data": {
      "image/png": "[encoded data removed]",
      "text/plain": [
       "<Figure size 640x480 with 1 Axes>"
      ]
     },
     "metadata": {},
     "output_type": "display_data"
    }
   ],
   "source": [
    "# Load the categories\n",
    "cats = coco.loadCats(coco.getCatIds())\n",
    "id_cats = [cat['id'] for cat in cats]\n",
    "cat_names = [cat['name'] for cat in cats]\n",
    "\n",
    "image_count_per_cat = []\n",
    "# Count the number of images per category\n",
    "for id_cat in id_cats:\n",
    "    imgids = coco.getImgIds(catIds=id_cat)\n",
    "    image_count_per_cat.append(len(imgids))\n",
    "\n",
    "# Legend for the plot\n",
    "for i in range(len(id_cats)):\n",
    "    print(f\"Category {id_cats[i]}: {cat_names[i]} - Number of images: {image_count_per_cat[i]}\")\n",
    "\n",
    "plt.bar(id_cats, image_count_per_cat)\n",
    "plt.title('Number of images per category')\n",
    "plt.xlabel('Category ID')\n",
    "plt.ylabel('Number of images')\n",
    "plt.show()\n"
   ]
  },
  {
   "cell_type": "markdown",
   "metadata": {},
   "source": [
    "### Number of images per Super Category"
   ]
  },
  {
   "cell_type": "code",
   "execution_count": 27,
   "metadata": {},
   "outputs": [
    {
     "name": "stdout",
     "output_type": "stream",
     "text": [
      "Super category 0: animal - Number of images: 1016\n",
      "Super category 1: sports - Number of images: 938\n",
      "Super category 2: food - Number of images: 708\n",
      "Super category 3: outdoor - Number of images: 560\n",
      "Super category 4: kitchen - Number of images: 909\n",
      "Super category 5: furniture - Number of images: 1257\n",
      "Super category 6: electronic - Number of images: 597\n",
      "Super category 7: appliance - Number of images: 320\n",
      "Super category 8: indoor - Number of images: 652\n",
      "Super category 9: person - Number of images: 2693\n",
      "Super category 10: accessory - Number of images: 726\n",
      "Super category 11: vehicle - Number of images: 1160\n"
     ]
    },
    {
     "data": {
      "image/png": "[encoded data removed]",
      "text/plain": [
       "<Figure size 640x480 with 1 Axes>"
      ]
     },
     "metadata": {},
     "output_type": "display_data"
    }
   ],
   "source": [
    "cats = coco.loadCats(coco.getCatIds())\n",
    "id_cats = [cat['id'] for cat in cats]\n",
    "super_cat_name = set([cat['supercategory'] for cat in cats])\n",
    "\n",
    "# Create a dictionary with the supercategory name as key and the number of images as value\n",
    "dict_super_cat = {super_name : 0 for super_name in super_cat_name}\n",
    "\n",
    "# Dictionary that maps category id to supercategory name\n",
    "dict_cat_super_cat = {}\n",
    "for cat in cats:\n",
    "    dict_cat_super_cat[cat['id']] = cat['supercategory']\n",
    "\n",
    "# Dictionary to store the images that have been seen for each supercategory\n",
    "image_seen = {super_category: [] for super_category in super_cat_name}\n",
    "\n",
    "# Count the number of images for each supercategory\n",
    "for id_cat in id_cats:\n",
    "    imgids = coco.getImgIds(catIds=id_cat)\n",
    "    for imgid in imgids:\n",
    "        if imgid not in image_seen[dict_cat_super_cat[id_cat]]:\n",
    "            dict_super_cat[dict_cat_super_cat[id_cat]] += 1\n",
    "            image_seen[dict_cat_super_cat[id_cat]].append(imgid)\n",
    "\n",
    "# Convert data in order to plot it\n",
    "image_count_per_super_cat = list(dict_super_cat.values())\n",
    "super_cat_name = {i: el for i, el in enumerate(super_cat_name)}\n",
    "\n",
    "# Legend for the plot\n",
    "for k, v in super_cat_name.items():\n",
    "    print(f\"Super category {k}: {v} - Number of images: {image_count_per_super_cat[k]}\")\n",
    "\n",
    "# Plot the data\n",
    "plt.bar(super_cat_name.keys(), image_count_per_super_cat)\n",
    "plt.title('Number of images per super category')\n",
    "plt.xlabel('Super Category ID')\n",
    "plt.ylabel('Number of images')\n",
    "plt.show()\n"
   ]
  }
 ],
 "metadata": {
  "kernelspec": {
   "display_name": "venv",
   "language": "python",
   "name": "python3"
  },
  "language_info": {
   "codemirror_mode": {
    "name": "ipython",
    "version": 3
   },
   "file_extension": ".py",
   "mimetype": "text/x-python",
   "name": "python",
   "nbconvert_exporter": "python",
   "pygments_lexer": "ipython3",
   "version": "3.9.6"
  }
 },
 "nbformat": 4,
 "nbformat_minor": 2
}
